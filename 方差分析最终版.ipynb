{
 "cells": [
  {
   "cell_type": "markdown",
   "metadata": {},
   "source": [
    "# 单因素方差分析"
   ]
  },
  {
   "cell_type": "markdown",
   "metadata": {},
   "source": [
    "## 业务理解\n",
    "\n",
    "探究施肥是否会对促进植株生成（植株生长以树高作为指标来衡量）,试验为：\n",
    "\n",
    "- 对照组：清水 \n",
    "- 实验组： 某肥料四个浓度梯度，分别是A,B,C,D，施肥一段时间之后测量树高\n",
    "\n",
    "（要控制其他变量保持一致，比如施肥之前的树高要基本保持一致，生长势基本保持一致等等）\n",
    "\n",
    "做方差分析的时候数据需要满足正态分布；方差齐性等。\n",
    "\n",
    "正常拿到数据后需要对数据是否符合正态分布和组间方差是否一致做检验。在这里采用直接生成满足方差齐性和正态性条件的样本，故暂时忽略。\n",
    "\n",
    "## 数据导入"
   ]
  },
  {
   "cell_type": "code",
   "execution_count": 73,
   "metadata": {},
   "outputs": [
    {
     "data": {
      "text/html": [
       "<div>\n",
       "<style scoped>\n",
       "    .dataframe tbody tr th:only-of-type {\n",
       "        vertical-align: middle;\n",
       "    }\n",
       "\n",
       "    .dataframe tbody tr th {\n",
       "        vertical-align: top;\n",
       "    }\n",
       "\n",
       "    .dataframe thead th {\n",
       "        text-align: right;\n",
       "    }\n",
       "</style>\n",
       "<table border=\"1\" class=\"dataframe\">\n",
       "  <thead>\n",
       "    <tr style=\"text-align: right;\">\n",
       "      <th></th>\n",
       "      <th>ctl</th>\n",
       "      <th>treat1</th>\n",
       "      <th>treat2</th>\n",
       "      <th>treat3</th>\n",
       "      <th>treat4</th>\n",
       "    </tr>\n",
       "  </thead>\n",
       "  <tbody>\n",
       "    <tr>\n",
       "      <th>0</th>\n",
       "      <td>6.258224</td>\n",
       "      <td>10.350319</td>\n",
       "      <td>17.233064</td>\n",
       "      <td>34.506443</td>\n",
       "      <td>27.133972</td>\n",
       "    </tr>\n",
       "    <tr>\n",
       "      <th>1</th>\n",
       "      <td>13.143507</td>\n",
       "      <td>14.530864</td>\n",
       "      <td>21.941544</td>\n",
       "      <td>32.300486</td>\n",
       "      <td>32.172745</td>\n",
       "    </tr>\n",
       "    <tr>\n",
       "      <th>2</th>\n",
       "      <td>8.147622</td>\n",
       "      <td>14.085781</td>\n",
       "      <td>12.508140</td>\n",
       "      <td>35.266608</td>\n",
       "      <td>31.550142</td>\n",
       "    </tr>\n",
       "    <tr>\n",
       "      <th>3</th>\n",
       "      <td>5.874957</td>\n",
       "      <td>21.877608</td>\n",
       "      <td>23.713638</td>\n",
       "      <td>34.707211</td>\n",
       "      <td>25.880530</td>\n",
       "    </tr>\n",
       "    <tr>\n",
       "      <th>4</th>\n",
       "      <td>14.713793</td>\n",
       "      <td>12.076544</td>\n",
       "      <td>11.834265</td>\n",
       "      <td>27.212396</td>\n",
       "      <td>33.294428</td>\n",
       "    </tr>\n",
       "  </tbody>\n",
       "</table>\n",
       "</div>"
      ],
      "text/plain": [
       "         ctl     treat1     treat2     treat3     treat4\n",
       "0   6.258224  10.350319  17.233064  34.506443  27.133972\n",
       "1  13.143507  14.530864  21.941544  32.300486  32.172745\n",
       "2   8.147622  14.085781  12.508140  35.266608  31.550142\n",
       "3   5.874957  21.877608  23.713638  34.707211  25.880530\n",
       "4  14.713793  12.076544  11.834265  27.212396  33.294428"
      ]
     },
     "execution_count": 73,
     "metadata": {},
     "output_type": "execute_result"
    }
   ],
   "source": [
    "# 模拟生成数据\n",
    "import numpy as np\n",
    "df = {'ctl':list(np.random.normal(10,5,100)),\n",
    "      'treat1':list(np.random.normal(15,5,100)),\\\n",
    "      'treat2':list(np.random.normal(20,5,100)),\\\n",
    "      'treat3':list(np.random.normal(30,5,100)),\\\n",
    "      'treat4':list(np.random.normal(31,5,100))}\n",
    "\n",
    "# 组合成数据框\n",
    "import pandas as pd\n",
    "df = pd.DataFrame(df)\n",
    "df.head() # 宽格式数据"
   ]
  },
  {
   "cell_type": "markdown",
   "metadata": {},
   "source": [
    "## 数据理解"
   ]
  },
  {
   "cell_type": "code",
   "execution_count": 74,
   "metadata": {},
   "outputs": [
    {
     "data": {
      "text/plain": [
       "(100, 5)"
      ]
     },
     "execution_count": 74,
     "metadata": {},
     "output_type": "execute_result"
    }
   ],
   "source": [
    "# 查看数据形状\n",
    "df.shape"
   ]
  },
  {
   "cell_type": "code",
   "execution_count": 75,
   "metadata": {},
   "outputs": [
    {
     "data": {
      "text/plain": [
       "Index(['ctl', 'treat1', 'treat2', 'treat3', 'treat4'], dtype='object')"
      ]
     },
     "execution_count": 75,
     "metadata": {},
     "output_type": "execute_result"
    }
   ],
   "source": [
    "# 查看列名\n",
    "df.columns"
   ]
  },
  {
   "cell_type": "code",
   "execution_count": 76,
   "metadata": {},
   "outputs": [
    {
     "data": {
      "text/html": [
       "<div>\n",
       "<style scoped>\n",
       "    .dataframe tbody tr th:only-of-type {\n",
       "        vertical-align: middle;\n",
       "    }\n",
       "\n",
       "    .dataframe tbody tr th {\n",
       "        vertical-align: top;\n",
       "    }\n",
       "\n",
       "    .dataframe thead th {\n",
       "        text-align: right;\n",
       "    }\n",
       "</style>\n",
       "<table border=\"1\" class=\"dataframe\">\n",
       "  <thead>\n",
       "    <tr style=\"text-align: right;\">\n",
       "      <th></th>\n",
       "      <th>ctl</th>\n",
       "      <th>treat1</th>\n",
       "      <th>treat2</th>\n",
       "      <th>treat3</th>\n",
       "      <th>treat4</th>\n",
       "    </tr>\n",
       "  </thead>\n",
       "  <tbody>\n",
       "    <tr>\n",
       "      <th>count</th>\n",
       "      <td>100.000000</td>\n",
       "      <td>100.000000</td>\n",
       "      <td>100.000000</td>\n",
       "      <td>100.000000</td>\n",
       "      <td>100.000000</td>\n",
       "    </tr>\n",
       "    <tr>\n",
       "      <th>mean</th>\n",
       "      <td>9.797526</td>\n",
       "      <td>14.639276</td>\n",
       "      <td>20.307828</td>\n",
       "      <td>30.353519</td>\n",
       "      <td>31.522130</td>\n",
       "    </tr>\n",
       "    <tr>\n",
       "      <th>std</th>\n",
       "      <td>5.063291</td>\n",
       "      <td>5.568774</td>\n",
       "      <td>4.541890</td>\n",
       "      <td>5.514990</td>\n",
       "      <td>4.989091</td>\n",
       "    </tr>\n",
       "    <tr>\n",
       "      <th>min</th>\n",
       "      <td>-0.521718</td>\n",
       "      <td>0.698344</td>\n",
       "      <td>8.939525</td>\n",
       "      <td>15.781992</td>\n",
       "      <td>20.470651</td>\n",
       "    </tr>\n",
       "    <tr>\n",
       "      <th>25%</th>\n",
       "      <td>6.162407</td>\n",
       "      <td>10.757379</td>\n",
       "      <td>17.743476</td>\n",
       "      <td>27.290917</td>\n",
       "      <td>27.431911</td>\n",
       "    </tr>\n",
       "    <tr>\n",
       "      <th>50%</th>\n",
       "      <td>9.814990</td>\n",
       "      <td>14.720299</td>\n",
       "      <td>20.771182</td>\n",
       "      <td>30.554939</td>\n",
       "      <td>31.777117</td>\n",
       "    </tr>\n",
       "    <tr>\n",
       "      <th>75%</th>\n",
       "      <td>13.206764</td>\n",
       "      <td>19.251902</td>\n",
       "      <td>23.517276</td>\n",
       "      <td>34.216437</td>\n",
       "      <td>35.599887</td>\n",
       "    </tr>\n",
       "    <tr>\n",
       "      <th>max</th>\n",
       "      <td>21.871314</td>\n",
       "      <td>25.527838</td>\n",
       "      <td>31.031720</td>\n",
       "      <td>42.625079</td>\n",
       "      <td>43.967697</td>\n",
       "    </tr>\n",
       "  </tbody>\n",
       "</table>\n",
       "</div>"
      ],
      "text/plain": [
       "              ctl      treat1      treat2      treat3      treat4\n",
       "count  100.000000  100.000000  100.000000  100.000000  100.000000\n",
       "mean     9.797526   14.639276   20.307828   30.353519   31.522130\n",
       "std      5.063291    5.568774    4.541890    5.514990    4.989091\n",
       "min     -0.521718    0.698344    8.939525   15.781992   20.470651\n",
       "25%      6.162407   10.757379   17.743476   27.290917   27.431911\n",
       "50%      9.814990   14.720299   20.771182   30.554939   31.777117\n",
       "75%     13.206764   19.251902   23.517276   34.216437   35.599887\n",
       "max     21.871314   25.527838   31.031720   42.625079   43.967697"
      ]
     },
     "execution_count": 76,
     "metadata": {},
     "output_type": "execute_result"
    }
   ],
   "source": [
    "# 数据总体概述\n",
    "df.describe()"
   ]
  },
  {
   "cell_type": "code",
   "execution_count": 77,
   "metadata": {},
   "outputs": [
    {
     "data": {
      "image/png": "[encoded data removed]",
      "text/plain": [
       "<Figure size 432x288 with 1 Axes>"
      ]
     },
     "metadata": {
      "needs_background": "light"
     },
     "output_type": "display_data"
    }
   ],
   "source": [
    "# 利用箱线图展示一下数据\n",
    "df.boxplot(grid = False)\n",
    "import matplotlib.pyplot as plt\n",
    "plt.show()"
   ]
  },
  {
   "cell_type": "markdown",
   "metadata": {},
   "source": [
    "## 数据准备（主要为数据格式转换）"
   ]
  },
  {
   "cell_type": "code",
   "execution_count": 78,
   "metadata": {},
   "outputs": [
    {
     "data": {
      "text/html": [
       "<div>\n",
       "<style scoped>\n",
       "    .dataframe tbody tr th:only-of-type {\n",
       "        vertical-align: middle;\n",
       "    }\n",
       "\n",
       "    .dataframe tbody tr th {\n",
       "        vertical-align: top;\n",
       "    }\n",
       "\n",
       "    .dataframe thead th {\n",
       "        text-align: right;\n",
       "    }\n",
       "</style>\n",
       "<table border=\"1\" class=\"dataframe\">\n",
       "  <thead>\n",
       "    <tr style=\"text-align: right;\">\n",
       "      <th></th>\n",
       "      <th>Treat</th>\n",
       "      <th>Value</th>\n",
       "    </tr>\n",
       "  </thead>\n",
       "  <tbody>\n",
       "    <tr>\n",
       "      <th>0</th>\n",
       "      <td>ctl</td>\n",
       "      <td>6.258224</td>\n",
       "    </tr>\n",
       "    <tr>\n",
       "      <th>1</th>\n",
       "      <td>ctl</td>\n",
       "      <td>13.143507</td>\n",
       "    </tr>\n",
       "    <tr>\n",
       "      <th>2</th>\n",
       "      <td>ctl</td>\n",
       "      <td>8.147622</td>\n",
       "    </tr>\n",
       "    <tr>\n",
       "      <th>3</th>\n",
       "      <td>ctl</td>\n",
       "      <td>5.874957</td>\n",
       "    </tr>\n",
       "    <tr>\n",
       "      <th>4</th>\n",
       "      <td>ctl</td>\n",
       "      <td>14.713793</td>\n",
       "    </tr>\n",
       "  </tbody>\n",
       "</table>\n",
       "</div>"
      ],
      "text/plain": [
       "  Treat      Value\n",
       "0   ctl   6.258224\n",
       "1   ctl  13.143507\n",
       "2   ctl   8.147622\n",
       "3   ctl   5.874957\n",
       "4   ctl  14.713793"
      ]
     },
     "execution_count": 78,
     "metadata": {},
     "output_type": "execute_result"
    }
   ],
   "source": [
    "# 转化数据格式\n",
    "df_melt = df.melt() # 如果是双因素方差分析的宽格式数据转换，一般需要设置若干参数\n",
    "df_melt.columns = ['Treat','Value']\n",
    "df_melt.head()"
   ]
  },
  {
   "cell_type": "code",
   "execution_count": 79,
   "metadata": {},
   "outputs": [
    {
     "data": {
      "text/plain": [
       "<matplotlib.axes._subplots.AxesSubplot at 0x263ea45bfc8>"
      ]
     },
     "execution_count": 79,
     "metadata": {},
     "output_type": "execute_result"
    },
    {
     "data": {
      "image/png": "[encoded data removed]",
      "text/plain": [
       "<Figure size 432x288 with 1 Axes>"
      ]
     },
     "metadata": {
      "needs_background": "light"
     },
     "output_type": "display_data"
    }
   ],
   "source": [
    "# 使用seaborn模块绘制箱线图\n",
    "import seaborn as sns\n",
    "import pandas.util.testing as tm\n",
    "\n",
    "sns.boxplot(x='Treat',y='Value',data = df_melt)"
   ]
  },
  {
   "cell_type": "markdown",
   "metadata": {},
   "source": [
    "## 提出假设"
   ]
  },
  {
   "cell_type": "markdown",
   "metadata": {},
   "source": [
    "**提出的假设为：**\n",
    "- H0：n1=n2=n3=n4=n5 (施肥对植株生长无显著影响)\n",
    "- H1：ni (i =1,2, … , 5) 不全相等 (施肥对植株生长有显著影响)"
   ]
  },
  {
   "cell_type": "markdown",
   "metadata": {},
   "source": [
    "## 参数设计与模型构建"
   ]
  },
  {
   "cell_type": "code",
   "execution_count": 80,
   "metadata": {},
   "outputs": [
    {
     "data": {
      "text/html": [
       "<div>\n",
       "<style scoped>\n",
       "    .dataframe tbody tr th:only-of-type {\n",
       "        vertical-align: middle;\n",
       "    }\n",
       "\n",
       "    .dataframe tbody tr th {\n",
       "        vertical-align: top;\n",
       "    }\n",
       "\n",
       "    .dataframe thead th {\n",
       "        text-align: right;\n",
       "    }\n",
       "</style>\n",
       "<table border=\"1\" class=\"dataframe\">\n",
       "  <thead>\n",
       "    <tr style=\"text-align: right;\">\n",
       "      <th></th>\n",
       "      <th>sum_sq</th>\n",
       "      <th>df</th>\n",
       "      <th>F</th>\n",
       "      <th>PR(&gt;F)</th>\n",
       "    </tr>\n",
       "  </thead>\n",
       "  <tbody>\n",
       "    <tr>\n",
       "      <th>C(Treat)</th>\n",
       "      <td>36411.182699</td>\n",
       "      <td>4.0</td>\n",
       "      <td>343.2865</td>\n",
       "      <td>3.183259e-141</td>\n",
       "    </tr>\n",
       "    <tr>\n",
       "      <th>Residual</th>\n",
       "      <td>13125.724011</td>\n",
       "      <td>495.0</td>\n",
       "      <td>NaN</td>\n",
       "      <td>NaN</td>\n",
       "    </tr>\n",
       "  </tbody>\n",
       "</table>\n",
       "</div>"
      ],
      "text/plain": [
       "                sum_sq     df         F         PR(>F)\n",
       "C(Treat)  36411.182699    4.0  343.2865  3.183259e-141\n",
       "Residual  13125.724011  495.0       NaN            NaN"
      ]
     },
     "execution_count": 80,
     "metadata": {},
     "output_type": "execute_result"
    }
   ],
   "source": [
    "# 导入相关模型库\n",
    "from statsmodels.formula.api import ols\n",
    "from statsmodels.stats.anova import anova_lm\n",
    "\n",
    "# 模型拟合与构建，生成方差分析表\n",
    "model = ols('Value~C(Treat)',data=df_melt).fit()\n",
    "anova_table = anova_lm(model, typ = 2)\n",
    "anova_table"
   ]
  },
  {
   "cell_type": "markdown",
   "metadata": {},
   "source": [
    "## 结果解读"
   ]
  },
  {
   "cell_type": "code",
   "execution_count": 81,
   "metadata": {},
   "outputs": [
    {
     "data": {
      "text/html": [
       "<div>\n",
       "<style scoped>\n",
       "    .dataframe tbody tr th:only-of-type {\n",
       "        vertical-align: middle;\n",
       "    }\n",
       "\n",
       "    .dataframe tbody tr th {\n",
       "        vertical-align: top;\n",
       "    }\n",
       "\n",
       "    .dataframe thead th {\n",
       "        text-align: right;\n",
       "    }\n",
       "</style>\n",
       "<table border=\"1\" class=\"dataframe\">\n",
       "  <thead>\n",
       "    <tr style=\"text-align: right;\">\n",
       "      <th></th>\n",
       "      <th>sum_sq</th>\n",
       "      <th>df</th>\n",
       "      <th>F</th>\n",
       "      <th>PR(&gt;F)</th>\n",
       "    </tr>\n",
       "  </thead>\n",
       "  <tbody>\n",
       "    <tr>\n",
       "      <th>C(Treat)</th>\n",
       "      <td>36411.182699</td>\n",
       "      <td>4.0</td>\n",
       "      <td>343.2865</td>\n",
       "      <td>3.183259e-141</td>\n",
       "    </tr>\n",
       "    <tr>\n",
       "      <th>Residual</th>\n",
       "      <td>13125.724011</td>\n",
       "      <td>495.0</td>\n",
       "      <td>NaN</td>\n",
       "      <td>NaN</td>\n",
       "    </tr>\n",
       "  </tbody>\n",
       "</table>\n",
       "</div>"
      ],
      "text/plain": [
       "                sum_sq     df         F         PR(>F)\n",
       "C(Treat)  36411.182699    4.0  343.2865  3.183259e-141\n",
       "Residual  13125.724011  495.0       NaN            NaN"
      ]
     },
     "execution_count": 81,
     "metadata": {},
     "output_type": "execute_result"
    }
   ],
   "source": [
    "anova_table"
   ]
  },
  {
   "cell_type": "markdown",
   "metadata": {},
   "source": [
    "P值为4.19*10<sup>-140</sup>远远小于0.05，故原假设（施肥对植株生长无显著影响）不成立，施肥对植株生长有显著影响，但是影响如何还需要通过效应量的大小来测量，在后面的双因素方差分析中会为大家具体讲解效应量大小的计算。\n",
    "\n",
    "方差分析表只能得出施肥对植株生长有显著影响，但是怎样的影响机制并无法通过方差分析表获悉，所以我们可以通过多重比较来具体看看施肥是怎样影响植株生长的，哪种施肥方式对植株生长的影响更为显著？"
   ]
  },
  {
   "cell_type": "code",
   "execution_count": 82,
   "metadata": {},
   "outputs": [
    {
     "name": "stdout",
     "output_type": "stream",
     "text": [
      "Multiple Comparison of Means - Tukey HSD, FWER=0.05 \n",
      "====================================================\n",
      "group1 group2 meandiff p-adj   lower   upper  reject\n",
      "----------------------------------------------------\n",
      "   ctl treat1   4.8418  0.001  2.8479  6.8356   True\n",
      "   ctl treat2  10.5103  0.001  8.5165 12.5041   True\n",
      "   ctl treat3   20.556  0.001 18.5622 22.5498   True\n",
      "   ctl treat4  21.7246  0.001 19.7308 23.7184   True\n",
      "treat1 treat2   5.6686  0.001  3.6747  7.6624   True\n",
      "treat1 treat3  15.7142  0.001 13.7204 17.7081   True\n",
      "treat1 treat4  16.8829  0.001  14.889 18.8767   True\n",
      "treat2 treat3  10.0457  0.001  8.0519 12.0395   True\n",
      "treat2 treat4  11.2143  0.001  9.2205 13.2081   True\n",
      "treat3 treat4   1.1686 0.4949 -0.8252  3.1624  False\n",
      "----------------------------------------------------\n"
     ]
    }
   ],
   "source": [
    "# 多重检验，比较常用的检验方法是邓肯多重检验（Tukey HSD test）\n",
    "from statsmodels.stats.multicomp import MultiComparison\n",
    "mc = MultiComparison(df_melt['Value'],df_melt['Treat'])\n",
    "tukey_result = mc.tukeyhsd(alpha = 0.05)\n",
    "print(tukey_result)"
   ]
  },
  {
   "cell_type": "markdown",
   "metadata": {},
   "source": [
    "## 建模前提假定条件的讨论\n",
    "\n",
    "因为刚才进行单因素方差分析的数据是我通过numpy随机模拟生成的，故本身是满足方差齐性和正态性分布的，在这里暂不对方差分析的假定条件进行讨论，在后面的双因素方差分析为大家具体讲解。"
   ]
  },
  {
   "cell_type": "markdown",
   "metadata": {},
   "source": [
    "# 双因素方差分析"
   ]
  },
  {
   "cell_type": "markdown",
   "metadata": {},
   "source": [
    "## 业务理解\n",
    "\n",
    "- 案例背景：检验不同喂食方法以及不同剂量对豚鼠牙齿生长的影响是否显著，数据来自R语言自带数据集；\n",
    "- 方差分析测试模型中某处的均值是否存在差异（测试是否存在总体影响），但是并不能告诉我们差异在哪里（如果存在差异）；\n",
    "- 为了找出同组变量之间的区别，我们必须进行事后测试。"
   ]
  },
  {
   "cell_type": "markdown",
   "metadata": {},
   "source": [
    "## 数据导入"
   ]
  },
  {
   "cell_type": "code",
   "execution_count": 57,
   "metadata": {
    "scrolled": true
   },
   "outputs": [
    {
     "data": {
      "text/html": [
       "<div>\n",
       "<style scoped>\n",
       "    .dataframe tbody tr th:only-of-type {\n",
       "        vertical-align: middle;\n",
       "    }\n",
       "\n",
       "    .dataframe tbody tr th {\n",
       "        vertical-align: top;\n",
       "    }\n",
       "\n",
       "    .dataframe thead th {\n",
       "        text-align: right;\n",
       "    }\n",
       "</style>\n",
       "<table border=\"1\" class=\"dataframe\">\n",
       "  <thead>\n",
       "    <tr style=\"text-align: right;\">\n",
       "      <th></th>\n",
       "      <th>Unnamed: 0</th>\n",
       "      <th>len</th>\n",
       "      <th>supp</th>\n",
       "      <th>dose</th>\n",
       "    </tr>\n",
       "  </thead>\n",
       "  <tbody>\n",
       "    <tr>\n",
       "      <th>0</th>\n",
       "      <td>1</td>\n",
       "      <td>4.2</td>\n",
       "      <td>VC</td>\n",
       "      <td>0.5</td>\n",
       "    </tr>\n",
       "    <tr>\n",
       "      <th>1</th>\n",
       "      <td>2</td>\n",
       "      <td>11.5</td>\n",
       "      <td>VC</td>\n",
       "      <td>0.5</td>\n",
       "    </tr>\n",
       "    <tr>\n",
       "      <th>2</th>\n",
       "      <td>3</td>\n",
       "      <td>7.3</td>\n",
       "      <td>VC</td>\n",
       "      <td>0.5</td>\n",
       "    </tr>\n",
       "    <tr>\n",
       "      <th>3</th>\n",
       "      <td>4</td>\n",
       "      <td>5.8</td>\n",
       "      <td>VC</td>\n",
       "      <td>0.5</td>\n",
       "    </tr>\n",
       "    <tr>\n",
       "      <th>4</th>\n",
       "      <td>5</td>\n",
       "      <td>6.4</td>\n",
       "      <td>VC</td>\n",
       "      <td>0.5</td>\n",
       "    </tr>\n",
       "    <tr>\n",
       "      <th>5</th>\n",
       "      <td>6</td>\n",
       "      <td>10.0</td>\n",
       "      <td>VC</td>\n",
       "      <td>0.5</td>\n",
       "    </tr>\n",
       "    <tr>\n",
       "      <th>6</th>\n",
       "      <td>7</td>\n",
       "      <td>11.2</td>\n",
       "      <td>VC</td>\n",
       "      <td>0.5</td>\n",
       "    </tr>\n",
       "    <tr>\n",
       "      <th>7</th>\n",
       "      <td>8</td>\n",
       "      <td>11.2</td>\n",
       "      <td>VC</td>\n",
       "      <td>0.5</td>\n",
       "    </tr>\n",
       "    <tr>\n",
       "      <th>8</th>\n",
       "      <td>9</td>\n",
       "      <td>5.2</td>\n",
       "      <td>VC</td>\n",
       "      <td>0.5</td>\n",
       "    </tr>\n",
       "    <tr>\n",
       "      <th>9</th>\n",
       "      <td>10</td>\n",
       "      <td>7.0</td>\n",
       "      <td>VC</td>\n",
       "      <td>0.5</td>\n",
       "    </tr>\n",
       "  </tbody>\n",
       "</table>\n",
       "</div>"
      ],
      "text/plain": [
       "   Unnamed: 0   len supp  dose\n",
       "0           1   4.2   VC   0.5\n",
       "1           2  11.5   VC   0.5\n",
       "2           3   7.3   VC   0.5\n",
       "3           4   5.8   VC   0.5\n",
       "4           5   6.4   VC   0.5\n",
       "5           6  10.0   VC   0.5\n",
       "6           7  11.2   VC   0.5\n",
       "7           8  11.2   VC   0.5\n",
       "8           9   5.2   VC   0.5\n",
       "9          10   7.0   VC   0.5"
      ]
     },
     "execution_count": 57,
     "metadata": {},
     "output_type": "execute_result"
    }
   ],
   "source": [
    "import pandas as pd\n",
    "\n",
    "datafile=\"http://vincentarelbundock.github.io/Rdatasets/csv/datasets/ToothGrowth.csv\"\n",
    "data = pd.read_csv(datafile)\n",
    "data.head(10)"
   ]
  },
  {
   "cell_type": "markdown",
   "metadata": {},
   "source": [
    "## 数据理解"
   ]
  },
  {
   "cell_type": "code",
   "execution_count": 58,
   "metadata": {},
   "outputs": [
    {
     "data": {
      "text/plain": [
       "(60, 4)"
      ]
     },
     "execution_count": 58,
     "metadata": {},
     "output_type": "execute_result"
    }
   ],
   "source": [
    "# 数据形状\n",
    "data.shape"
   ]
  },
  {
   "cell_type": "code",
   "execution_count": 59,
   "metadata": {},
   "outputs": [
    {
     "data": {
      "text/plain": [
       "Index(['Unnamed: 0', 'len', 'supp', 'dose'], dtype='object')"
      ]
     },
     "execution_count": 59,
     "metadata": {},
     "output_type": "execute_result"
    }
   ],
   "source": [
    "# 列名\n",
    "data.columns"
   ]
  },
  {
   "cell_type": "code",
   "execution_count": 60,
   "metadata": {},
   "outputs": [
    {
     "data": {
      "text/html": [
       "<div>\n",
       "<style scoped>\n",
       "    .dataframe tbody tr th:only-of-type {\n",
       "        vertical-align: middle;\n",
       "    }\n",
       "\n",
       "    .dataframe tbody tr th {\n",
       "        vertical-align: top;\n",
       "    }\n",
       "\n",
       "    .dataframe thead th {\n",
       "        text-align: right;\n",
       "    }\n",
       "</style>\n",
       "<table border=\"1\" class=\"dataframe\">\n",
       "  <thead>\n",
       "    <tr style=\"text-align: right;\">\n",
       "      <th></th>\n",
       "      <th>Unnamed: 0</th>\n",
       "      <th>len</th>\n",
       "      <th>supp</th>\n",
       "      <th>dose</th>\n",
       "    </tr>\n",
       "  </thead>\n",
       "  <tbody>\n",
       "    <tr>\n",
       "      <th>count</th>\n",
       "      <td>60.000000</td>\n",
       "      <td>60.000000</td>\n",
       "      <td>60</td>\n",
       "      <td>60.000000</td>\n",
       "    </tr>\n",
       "    <tr>\n",
       "      <th>unique</th>\n",
       "      <td>NaN</td>\n",
       "      <td>NaN</td>\n",
       "      <td>2</td>\n",
       "      <td>NaN</td>\n",
       "    </tr>\n",
       "    <tr>\n",
       "      <th>top</th>\n",
       "      <td>NaN</td>\n",
       "      <td>NaN</td>\n",
       "      <td>OJ</td>\n",
       "      <td>NaN</td>\n",
       "    </tr>\n",
       "    <tr>\n",
       "      <th>freq</th>\n",
       "      <td>NaN</td>\n",
       "      <td>NaN</td>\n",
       "      <td>30</td>\n",
       "      <td>NaN</td>\n",
       "    </tr>\n",
       "    <tr>\n",
       "      <th>mean</th>\n",
       "      <td>30.500000</td>\n",
       "      <td>18.813333</td>\n",
       "      <td>NaN</td>\n",
       "      <td>1.166667</td>\n",
       "    </tr>\n",
       "    <tr>\n",
       "      <th>std</th>\n",
       "      <td>17.464249</td>\n",
       "      <td>7.649315</td>\n",
       "      <td>NaN</td>\n",
       "      <td>0.628872</td>\n",
       "    </tr>\n",
       "    <tr>\n",
       "      <th>min</th>\n",
       "      <td>1.000000</td>\n",
       "      <td>4.200000</td>\n",
       "      <td>NaN</td>\n",
       "      <td>0.500000</td>\n",
       "    </tr>\n",
       "    <tr>\n",
       "      <th>25%</th>\n",
       "      <td>15.750000</td>\n",
       "      <td>13.075000</td>\n",
       "      <td>NaN</td>\n",
       "      <td>0.500000</td>\n",
       "    </tr>\n",
       "    <tr>\n",
       "      <th>50%</th>\n",
       "      <td>30.500000</td>\n",
       "      <td>19.250000</td>\n",
       "      <td>NaN</td>\n",
       "      <td>1.000000</td>\n",
       "    </tr>\n",
       "    <tr>\n",
       "      <th>75%</th>\n",
       "      <td>45.250000</td>\n",
       "      <td>25.275000</td>\n",
       "      <td>NaN</td>\n",
       "      <td>2.000000</td>\n",
       "    </tr>\n",
       "    <tr>\n",
       "      <th>max</th>\n",
       "      <td>60.000000</td>\n",
       "      <td>33.900000</td>\n",
       "      <td>NaN</td>\n",
       "      <td>2.000000</td>\n",
       "    </tr>\n",
       "  </tbody>\n",
       "</table>\n",
       "</div>"
      ],
      "text/plain": [
       "        Unnamed: 0        len supp       dose\n",
       "count    60.000000  60.000000   60  60.000000\n",
       "unique         NaN        NaN    2        NaN\n",
       "top            NaN        NaN   OJ        NaN\n",
       "freq           NaN        NaN   30        NaN\n",
       "mean     30.500000  18.813333  NaN   1.166667\n",
       "std      17.464249   7.649315  NaN   0.628872\n",
       "min       1.000000   4.200000  NaN   0.500000\n",
       "25%      15.750000  13.075000  NaN   0.500000\n",
       "50%      30.500000  19.250000  NaN   1.000000\n",
       "75%      45.250000  25.275000  NaN   2.000000\n",
       "max      60.000000  33.900000  NaN   2.000000"
      ]
     },
     "execution_count": 60,
     "metadata": {},
     "output_type": "execute_result"
    }
   ],
   "source": [
    "data.describe(include='all')\n",
    "# data.describe()"
   ]
  },
  {
   "cell_type": "code",
   "execution_count": 61,
   "metadata": {},
   "outputs": [
    {
     "data": {
      "image/png": "[encoded data removed]",
      "text/plain": [
       "<Figure size 432x288 with 1 Axes>"
      ]
     },
     "metadata": {
      "needs_background": "light"
     },
     "output_type": "display_data"
    }
   ],
   "source": [
    "# 利用可视化大致探索喂食方法和剂量对豚鼠牙齿生长的影响\n",
    "from statsmodels.graphics.factorplots import interaction_plot\n",
    "\n",
    "fig = interaction_plot(data.dose, data.supp, data.len, \n",
    "                       colors=['red','blue'], markers=['D','^'], ms=10)"
   ]
  },
  {
   "cell_type": "markdown",
   "metadata": {},
   "source": [
    "## 数据准备（数据格式转换）"
   ]
  },
  {
   "attachments": {
    "1.png": {
     "image/png": "[encoded data removed]"
    },
    "2.png": {
     "image/png": "[encoded data removed]"
    }
   },
   "cell_type": "markdown",
   "metadata": {},
   "source": [
    "**如果出现如下图1所示，我们就需要自编函数将数据格式转换成后面函数可以处理的数据格式，也就是我上面那种数据格式**\n",
    "\n",
    "![2.png](attachment:2.png)\n",
    "\n",
    "**如果出现如下图2所示，我们一般可以使用pandas自带的melt方法实现宽转长。**\n",
    "\n",
    "![1.png](attachment:1.png)"
   ]
  },
  {
   "cell_type": "markdown",
   "metadata": {},
   "source": [
    "## 提出假设\n",
    "**对喂食方法因素提出的假设为：**\n",
    "- H0：a1=a2=a3=a4 (喂食方法对豚鼠牙齿生长无显著影响)\n",
    "- H1：ai (i =1,2, … , 4) 不全相等 (有显著影响)\n",
    "\n",
    "**对剂量因素提出的假设为：**\n",
    "- H3：b1=b2=b3=b4=b5 (剂量对豚鼠牙齿生长无显著影响)\n",
    "- H4：bj (j =1,2,…,5) 不全相等 (有显著影响)\n",
    "\n",
    "**对喂食方法和剂量是否具有交互效应提出的假设为：**\n",
    "- H5：喂食方法和剂量的交互效应对观测变量的总体均值无显著影响\n",
    "- H6：喂食方法和剂量的交互效应对观测变量的总体均值存在显著影响\n",
    "\n",
    "**PS：一般原假设都是我们想推翻的假设，备择假设都是我们想要验证的假设**"
   ]
  },
  {
   "cell_type": "markdown",
   "metadata": {},
   "source": [
    "## 参数设置与模型构建"
   ]
  },
  {
   "cell_type": "code",
   "execution_count": 62,
   "metadata": {},
   "outputs": [
    {
     "data": {
      "text/html": [
       "<div>\n",
       "<style scoped>\n",
       "    .dataframe tbody tr th:only-of-type {\n",
       "        vertical-align: middle;\n",
       "    }\n",
       "\n",
       "    .dataframe tbody tr th {\n",
       "        vertical-align: top;\n",
       "    }\n",
       "\n",
       "    .dataframe thead th {\n",
       "        text-align: right;\n",
       "    }\n",
       "</style>\n",
       "<table border=\"1\" class=\"dataframe\">\n",
       "  <thead>\n",
       "    <tr style=\"text-align: right;\">\n",
       "      <th></th>\n",
       "      <th>sum_sq</th>\n",
       "      <th>df</th>\n",
       "      <th>F</th>\n",
       "      <th>PR(&gt;F)</th>\n",
       "    </tr>\n",
       "  </thead>\n",
       "  <tbody>\n",
       "    <tr>\n",
       "      <th>C(supp)</th>\n",
       "      <td>205.350000</td>\n",
       "      <td>1.0</td>\n",
       "      <td>14.016638</td>\n",
       "      <td>4.292793e-04</td>\n",
       "    </tr>\n",
       "    <tr>\n",
       "      <th>C(dose)</th>\n",
       "      <td>2426.434333</td>\n",
       "      <td>2.0</td>\n",
       "      <td>82.810935</td>\n",
       "      <td>1.871163e-17</td>\n",
       "    </tr>\n",
       "    <tr>\n",
       "      <th>Residual</th>\n",
       "      <td>820.425000</td>\n",
       "      <td>56.0</td>\n",
       "      <td>NaN</td>\n",
       "      <td>NaN</td>\n",
       "    </tr>\n",
       "  </tbody>\n",
       "</table>\n",
       "</div>"
      ],
      "text/plain": [
       "               sum_sq    df          F        PR(>F)\n",
       "C(supp)    205.350000   1.0  14.016638  4.292793e-04\n",
       "C(dose)   2426.434333   2.0  82.810935  1.871163e-17\n",
       "Residual   820.425000  56.0        NaN           NaN"
      ]
     },
     "execution_count": 62,
     "metadata": {},
     "output_type": "execute_result"
    }
   ],
   "source": [
    "# 导入相关的模型库\n",
    "from statsmodels.formula.api import ols\n",
    "from statsmodels.stats.anova import anova_lm\n",
    "\n",
    "# 考虑无交互作用\n",
    "formula_1 = 'len ~ C(supp) + C(dose)' # 构建模型参数\n",
    "model_1 = ols(formula_1, data).fit() # 模型构建\n",
    "aov_table_1 = anova_lm(model_1, typ=2) # 形成方差分析表\n",
    "aov_table_1 # 显示方差分析表"
   ]
  },
  {
   "cell_type": "code",
   "execution_count": 63,
   "metadata": {},
   "outputs": [
    {
     "data": {
      "text/html": [
       "<div>\n",
       "<style scoped>\n",
       "    .dataframe tbody tr th:only-of-type {\n",
       "        vertical-align: middle;\n",
       "    }\n",
       "\n",
       "    .dataframe tbody tr th {\n",
       "        vertical-align: top;\n",
       "    }\n",
       "\n",
       "    .dataframe thead th {\n",
       "        text-align: right;\n",
       "    }\n",
       "</style>\n",
       "<table border=\"1\" class=\"dataframe\">\n",
       "  <thead>\n",
       "    <tr style=\"text-align: right;\">\n",
       "      <th></th>\n",
       "      <th>sum_sq</th>\n",
       "      <th>df</th>\n",
       "      <th>F</th>\n",
       "      <th>PR(&gt;F)</th>\n",
       "    </tr>\n",
       "  </thead>\n",
       "  <tbody>\n",
       "    <tr>\n",
       "      <th>C(supp)</th>\n",
       "      <td>205.350000</td>\n",
       "      <td>1.0</td>\n",
       "      <td>15.571979</td>\n",
       "      <td>2.311828e-04</td>\n",
       "    </tr>\n",
       "    <tr>\n",
       "      <th>C(dose)</th>\n",
       "      <td>2426.434333</td>\n",
       "      <td>2.0</td>\n",
       "      <td>91.999965</td>\n",
       "      <td>4.046291e-18</td>\n",
       "    </tr>\n",
       "    <tr>\n",
       "      <th>C(supp):C(dose)</th>\n",
       "      <td>108.319000</td>\n",
       "      <td>2.0</td>\n",
       "      <td>4.106991</td>\n",
       "      <td>2.186027e-02</td>\n",
       "    </tr>\n",
       "    <tr>\n",
       "      <th>Residual</th>\n",
       "      <td>712.106000</td>\n",
       "      <td>54.0</td>\n",
       "      <td>NaN</td>\n",
       "      <td>NaN</td>\n",
       "    </tr>\n",
       "  </tbody>\n",
       "</table>\n",
       "</div>"
      ],
      "text/plain": [
       "                      sum_sq    df          F        PR(>F)\n",
       "C(supp)           205.350000   1.0  15.571979  2.311828e-04\n",
       "C(dose)          2426.434333   2.0  91.999965  4.046291e-18\n",
       "C(supp):C(dose)   108.319000   2.0   4.106991  2.186027e-02\n",
       "Residual          712.106000  54.0        NaN           NaN"
      ]
     },
     "execution_count": 63,
     "metadata": {},
     "output_type": "execute_result"
    }
   ],
   "source": [
    "# 考虑交互作用\n",
    "formula_2 = 'len ~ C(supp) + C(dose) + C(supp):C(dose)' # 构建模型参数\n",
    "model_2 = ols(formula_2, data).fit() # 模型构建\n",
    "aov_table_2 = anova_lm(model_2, typ=2) # 形成方差分析表\n",
    "aov_table_2 # 显示方差分析表"
   ]
  },
  {
   "cell_type": "code",
   "execution_count": 64,
   "metadata": {
    "scrolled": true
   },
   "outputs": [],
   "source": [
    "\"\"\"\n",
    "由于Statsmodels无法计算效应的大小，也就是影响的程度，主要是计算各个均方占总均方的比值，\n",
    "于是自己自定义函数计算效应量大小，eta_squared()函数主要计算效应量大小\n",
    "omega_squared()函数也是计算效应量的大小，但是与eta_squared()相比，还考虑了误差，提供了相对更准确的效应量估计。\n",
    "\"\"\"\n",
    "def eta_squared(aov): \n",
    "    aov['eta_sq'] = 'NaN'\n",
    "    aov['eta_sq'] = aov[:-1]['sum_sq']/sum(aov['sum_sq'])\n",
    "    return aov\n",
    "\n",
    "def omega_squared(aov): \n",
    "    mse = aov['sum_sq'][-1]/aov['df'][-1]\n",
    "    aov['omega_sq'] = 'NaN'\n",
    "    aov['omega_sq'] = (aov[:-1]['sum_sq']-(aov[:-1]['df']*mse))/(sum(aov['sum_sq'])+mse)\n",
    "    return aov"
   ]
  },
  {
   "cell_type": "markdown",
   "metadata": {},
   "source": [
    "## 结果解读"
   ]
  },
  {
   "cell_type": "markdown",
   "metadata": {},
   "source": [
    "### 无交互效应结果解读"
   ]
  },
  {
   "cell_type": "code",
   "execution_count": 65,
   "metadata": {},
   "outputs": [
    {
     "data": {
      "text/html": [
       "<div>\n",
       "<style scoped>\n",
       "    .dataframe tbody tr th:only-of-type {\n",
       "        vertical-align: middle;\n",
       "    }\n",
       "\n",
       "    .dataframe tbody tr th {\n",
       "        vertical-align: top;\n",
       "    }\n",
       "\n",
       "    .dataframe thead th {\n",
       "        text-align: right;\n",
       "    }\n",
       "</style>\n",
       "<table border=\"1\" class=\"dataframe\">\n",
       "  <thead>\n",
       "    <tr style=\"text-align: right;\">\n",
       "      <th></th>\n",
       "      <th>sum_sq</th>\n",
       "      <th>df</th>\n",
       "      <th>F</th>\n",
       "      <th>PR(&gt;F)</th>\n",
       "      <th>eta_sq</th>\n",
       "      <th>omega_sq</th>\n",
       "    </tr>\n",
       "  </thead>\n",
       "  <tbody>\n",
       "    <tr>\n",
       "      <th>C(supp)</th>\n",
       "      <td>205.350000</td>\n",
       "      <td>1.0</td>\n",
       "      <td>14.016638</td>\n",
       "      <td>4.292793e-04</td>\n",
       "      <td>0.059484</td>\n",
       "      <td>0.055006</td>\n",
       "    </tr>\n",
       "    <tr>\n",
       "      <th>C(dose)</th>\n",
       "      <td>2426.434333</td>\n",
       "      <td>2.0</td>\n",
       "      <td>82.810935</td>\n",
       "      <td>1.871163e-17</td>\n",
       "      <td>0.702864</td>\n",
       "      <td>0.691442</td>\n",
       "    </tr>\n",
       "    <tr>\n",
       "      <th>Residual</th>\n",
       "      <td>820.425000</td>\n",
       "      <td>56.0</td>\n",
       "      <td>NaN</td>\n",
       "      <td>NaN</td>\n",
       "      <td>NaN</td>\n",
       "      <td>NaN</td>\n",
       "    </tr>\n",
       "  </tbody>\n",
       "</table>\n",
       "</div>"
      ],
      "text/plain": [
       "               sum_sq    df          F        PR(>F)    eta_sq  omega_sq\n",
       "C(supp)    205.350000   1.0  14.016638  4.292793e-04  0.059484  0.055006\n",
       "C(dose)   2426.434333   2.0  82.810935  1.871163e-17  0.702864  0.691442\n",
       "Residual   820.425000  56.0        NaN           NaN       NaN       NaN"
      ]
     },
     "execution_count": 65,
     "metadata": {},
     "output_type": "execute_result"
    }
   ],
   "source": [
    "eta_squared(aov_table_1)\n",
    "omega_squared(aov_table_1)"
   ]
  },
  {
   "cell_type": "markdown",
   "metadata": {},
   "source": [
    "- 喂食方法supp因素所对应的P值为4.29*10<sup>-4</sup>< 0.05，所以H0假设不成立，H1假设成立，喂食方法对豚鼠牙齿生长有显著影响；\n",
    "- 剂量dose因素所对应的P值为1.87*10<sup>-17</sup>< <0.05，所以H3假设不成立，H4假设成立，剂量对豚鼠牙齿生长有显著影响；\n",
    "- 因为方差分析只能说明不同喂食方法和不同的剂量对豚鼠牙齿生长有影响，但不能表示不同喂食方法之间对豚鼠牙齿生长影响的差异程度以及不同的剂量之间对豚鼠牙齿生长影响的差异程度，如果发现存在差异，则需要检查组内差异的位置，这里使用Tukey HSD测试对喂食方法和剂量进行组内多重比较。"
   ]
  },
  {
   "cell_type": "markdown",
   "metadata": {},
   "source": [
    "### 考虑交互效应结果解读"
   ]
  },
  {
   "cell_type": "code",
   "execution_count": 66,
   "metadata": {
    "scrolled": true
   },
   "outputs": [
    {
     "data": {
      "text/html": [
       "<div>\n",
       "<style scoped>\n",
       "    .dataframe tbody tr th:only-of-type {\n",
       "        vertical-align: middle;\n",
       "    }\n",
       "\n",
       "    .dataframe tbody tr th {\n",
       "        vertical-align: top;\n",
       "    }\n",
       "\n",
       "    .dataframe thead th {\n",
       "        text-align: right;\n",
       "    }\n",
       "</style>\n",
       "<table border=\"1\" class=\"dataframe\">\n",
       "  <thead>\n",
       "    <tr style=\"text-align: right;\">\n",
       "      <th></th>\n",
       "      <th>sum_sq</th>\n",
       "      <th>df</th>\n",
       "      <th>F</th>\n",
       "      <th>PR(&gt;F)</th>\n",
       "      <th>eta_sq</th>\n",
       "      <th>omega_sq</th>\n",
       "    </tr>\n",
       "  </thead>\n",
       "  <tbody>\n",
       "    <tr>\n",
       "      <th>C(supp)</th>\n",
       "      <td>205.350000</td>\n",
       "      <td>1.0</td>\n",
       "      <td>15.571979</td>\n",
       "      <td>2.311828e-04</td>\n",
       "      <td>0.059484</td>\n",
       "      <td>0.055452</td>\n",
       "    </tr>\n",
       "    <tr>\n",
       "      <th>C(dose)</th>\n",
       "      <td>2426.434333</td>\n",
       "      <td>2.0</td>\n",
       "      <td>91.999965</td>\n",
       "      <td>4.046291e-18</td>\n",
       "      <td>0.702864</td>\n",
       "      <td>0.692579</td>\n",
       "    </tr>\n",
       "    <tr>\n",
       "      <th>C(supp):C(dose)</th>\n",
       "      <td>108.319000</td>\n",
       "      <td>2.0</td>\n",
       "      <td>4.106991</td>\n",
       "      <td>2.186027e-02</td>\n",
       "      <td>0.031377</td>\n",
       "      <td>0.023647</td>\n",
       "    </tr>\n",
       "    <tr>\n",
       "      <th>Residual</th>\n",
       "      <td>712.106000</td>\n",
       "      <td>54.0</td>\n",
       "      <td>NaN</td>\n",
       "      <td>NaN</td>\n",
       "      <td>NaN</td>\n",
       "      <td>NaN</td>\n",
       "    </tr>\n",
       "  </tbody>\n",
       "</table>\n",
       "</div>"
      ],
      "text/plain": [
       "                      sum_sq    df          F        PR(>F)    eta_sq  \\\n",
       "C(supp)           205.350000   1.0  15.571979  2.311828e-04  0.059484   \n",
       "C(dose)          2426.434333   2.0  91.999965  4.046291e-18  0.702864   \n",
       "C(supp):C(dose)   108.319000   2.0   4.106991  2.186027e-02  0.031377   \n",
       "Residual          712.106000  54.0        NaN           NaN       NaN   \n",
       "\n",
       "                 omega_sq  \n",
       "C(supp)          0.055452  \n",
       "C(dose)          0.692579  \n",
       "C(supp):C(dose)  0.023647  \n",
       "Residual              NaN  "
      ]
     },
     "execution_count": 66,
     "metadata": {},
     "output_type": "execute_result"
    }
   ],
   "source": [
    "eta_squared(aov_table_2)\n",
    "omega_squared(aov_table_2)"
   ]
  },
  {
   "cell_type": "markdown",
   "metadata": {},
   "source": [
    "- 喂食方法supp因素所对应的P值为2.31*10<sup>-4</sup>< 0.05，所以H0假设不成立，H1假设成立，喂食方法对豚鼠牙齿生长有显著影响；\n",
    "- 剂量dose因素所对应的P值为4.04*10<sup>-18</sup>< <0.05，所以H3假设不成立，H4假设成立，剂量对豚鼠牙齿生长有显著影响；\n",
    "- 可以看出，考虑交互效应后，与喂食方法和剂量所对应的F值和P值都发生了微小的改变，且交互项的P值为0.02<0.05，对豚鼠牙齿生长的影响显著\n",
    "- 因为方差分析只能说明不同喂食方法和不同的剂量对豚鼠牙齿生长有影响，但不能表示不同喂食方法之间对豚鼠牙齿生长影响的差异程度以及不同的剂量之间对豚鼠牙齿生长影响的差异程度，如果发现存在差异，则需要检查组内差异的位置，这里使用Tukey HSD测试对喂食方法和剂量进行组内多重比较。"
   ]
  },
  {
   "cell_type": "markdown",
   "metadata": {},
   "source": [
    "### 多重比较"
   ]
  },
  {
   "cell_type": "code",
   "execution_count": 68,
   "metadata": {},
   "outputs": [
    {
     "name": "stdout",
     "output_type": "stream",
     "text": [
      "Multiple Comparison of Means - Tukey HSD, FWER=0.05\n",
      "===================================================\n",
      "group1 group2 meandiff p-adj  lower   upper  reject\n",
      "---------------------------------------------------\n",
      "   0.5    1.0     9.13 0.001  5.9018 12.3582   True\n",
      "   0.5    2.0   15.495 0.001 12.2668 18.7232   True\n",
      "   1.0    2.0    6.365 0.001  3.1368  9.5932   True\n",
      "---------------------------------------------------\n"
     ]
    }
   ],
   "source": [
    "from statsmodels.stats.multicomp import pairwise_tukeyhsd\n",
    "\n",
    "print(pairwise_tukeyhsd(data['len'], data['dose']))"
   ]
  },
  {
   "cell_type": "markdown",
   "metadata": {},
   "source": [
    "- Tuckey HSD测试清楚地表明，在剂量dose因素的维度上第一组至第三组之间都存在显着差异，reject 都为 True，说明不同的剂量之间都会有显着性差异\n",
    "\n",
    "- 不对喂食方法supp因素进行多重比较，是因为该因素的水平为2，我们在假设检验成立的时候，就已经能够判断之间具有显著差异了，无须通过多重比较"
   ]
  },
  {
   "cell_type": "markdown",
   "metadata": {},
   "source": [
    "## 建模前提假定条件的讨论\n",
    "\n",
    "### 方差分析需满足的条件\n",
    "\n",
    "- 1.从因子水平定义的总体中独立且随机地获得观察结果\n",
    "\n",
    "- 2.每个因子水平的数据均呈正态分布\n",
    "\n",
    "- 3.案例独立性：样本案例应相互独立\n",
    "\n",
    "- 4.方差的同质性：同质性是指各组之间的方差应近似相等\n",
    "\n",
    "\n",
    "### 需检验的条件与检验方法\n",
    "\n",
    "- 一般条件1和条件3都是默认确保成立的，不需要检验\n",
    "\n",
    "- 我们需要检验的就是方差是否近似相等（方差齐性检验），主要采用Shapiro-Wilk试验和Q-Q图试验\n",
    "\n",
    "- 样本是否呈正态分布（正态分布检验），主要采用Levene检验"
   ]
  },
  {
   "cell_type": "markdown",
   "metadata": {},
   "source": [
    "### 正态性检验\n",
    "\n",
    "提出假设：\n",
    "\n",
    "- H0：样本满足正态性分布\n",
    "- H1：样本不满足正态性分布"
   ]
  },
  {
   "cell_type": "code",
   "execution_count": 69,
   "metadata": {},
   "outputs": [
    {
     "name": "stdout",
     "output_type": "stream",
     "text": [
      "w-value=0.9955519437789917 \n",
      "p-value=0.1663428544998169\n"
     ]
    }
   ],
   "source": [
    "# 方法一 Shapiro-Wilk试验\n",
    "w, pvalue = stats.shapiro(model.resid)\n",
    "print(f'w-value={w} \\np-value={pvalue}')"
   ]
  },
  {
   "cell_type": "markdown",
   "metadata": {},
   "source": [
    "上述p值小于0.05，所以正态性检验通过，满足样本分布正态性的条件。"
   ]
  },
  {
   "cell_type": "code",
   "execution_count": 70,
   "metadata": {},
   "outputs": [
    {
     "data": {
      "image/png": "[encoded data removed]",
      "text/plain": [
       "<Figure size 432x288 with 1 Axes>"
      ]
     },
     "metadata": {
      "needs_background": "light"
     },
     "output_type": "display_data"
    }
   ],
   "source": [
    "# 方法二 :Q-Q图试验\n",
    "import statsmodels.api as sm\n",
    "import matplotlib.pyplot as plt\n",
    "\n",
    "res = model.resid \n",
    "fig = sm.qqplot(res, line='s')\n",
    "plt.show() # (用OLS方法拟合的线性模型)很容易得到一个分位数-分位数(QQplot)，判断模型的拟合程度"
   ]
  },
  {
   "cell_type": "markdown",
   "metadata": {},
   "source": [
    "从上图中，我们看到所有数据点都靠近45度线，因此我们可以得出结论，它遵循正态分布。"
   ]
  },
  {
   "cell_type": "markdown",
   "metadata": {},
   "source": [
    "### 方差齐性检验\n",
    "\n",
    "\n",
    "提出假设：\n",
    "\n",
    "- H0：样本满足方差齐性\n",
    "- H1：样本不满足方差齐性"
   ]
  },
  {
   "cell_type": "code",
   "execution_count": 71,
   "metadata": {},
   "outputs": [
    {
     "name": "stdout",
     "output_type": "stream",
     "text": [
      "w-value=0.6457\n",
      "p-value=0.5281\n"
     ]
    }
   ],
   "source": [
    "# 检验supp因素的方差齐性\n",
    "group1=data[data['dose']==0.5]['len']\n",
    "group2=data[data['dose']==1.0]['len']\n",
    "group3=data[data['dose']==2.0]['len']\n",
    "leveneTestRes1 = stats.levene(group1,group2,group3, center='median')\n",
    "print('w-value=%6.4f\\np-value=%6.4f' %leveneTestRes1)"
   ]
  },
  {
   "cell_type": "code",
   "execution_count": 72,
   "metadata": {},
   "outputs": [
    {
     "name": "stdout",
     "output_type": "stream",
     "text": [
      "w-value=1.2136\n",
      "p-value=0.2752\n"
     ]
    }
   ],
   "source": [
    "# 检验dose因素的方差齐性\n",
    "group4=data[data['supp']==\"OJ\"]['len']\n",
    "group5=data[data['supp']==\"VC\"]['len']\n",
    "leveneTestRes1 = stats.levene(group4,group5, center='median')\n",
    "print('w-value=%6.4f\\np-value=%6.4f' %leveneTestRes1)"
   ]
  },
  {
   "cell_type": "markdown",
   "metadata": {},
   "source": [
    "上述p值均小于0.05，所以正态性检验通过，满足样本分布正态性的条件。"
   ]
  }
 ],
 "metadata": {
  "kernelspec": {
   "display_name": "Python 3",
   "language": "python",
   "name": "python3"
  },
  "language_info": {
   "codemirror_mode": {
    "name": "ipython",
    "version": 3
   },
   "file_extension": ".py",
   "mimetype": "text/x-python",
   "name": "python",
   "nbconvert_exporter": "python",
   "pygments_lexer": "ipython3",
   "version": "3.7.4"
  },
  "toc": {
   "base_numbering": 1,
   "nav_menu": {},
   "number_sections": true,
   "sideBar": true,
   "skip_h1_title": false,
   "title_cell": "Table of Contents",
   "title_sidebar": "Contents",
   "toc_cell": false,
   "toc_position": {
    "height": "calc(100% - 180px)",
    "left": "10px",
    "top": "150px",
    "width": "303.837px"
   },
   "toc_section_display": true,
   "toc_window_display": true
  },
  "varInspector": {
   "cols": {
    "lenName": 16,
    "lenType": 16,
    "lenVar": 40
   },
   "kernels_config": {
    "python": {
     "delete_cmd_postfix": "",
     "delete_cmd_prefix": "del ",
     "library": "var_list.py",
     "varRefreshCmd": "print(var_dic_list())"
    },
    "r": {
     "delete_cmd_postfix": ") ",
     "delete_cmd_prefix": "rm(",
     "library": "var_list.r",
     "varRefreshCmd": "cat(var_dic_list()) "
    }
   },
   "types_to_exclude": [
    "module",
    "function",
    "builtin_function_or_method",
    "instance",
    "_Feature"
   ],
   "window_display": false
  }
 },
 "nbformat": 4,
 "nbformat_minor": 2
}
